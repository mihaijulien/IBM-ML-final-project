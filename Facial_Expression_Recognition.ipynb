{
  "nbformat": 4,
  "nbformat_minor": 0,
  "metadata": {
    "colab": {
      "name": "Facial Expression Recognition",
      "provenance": [],
      "collapsed_sections": [],
      "authorship_tag": "ABX9TyMt1MErC+nRZ0k7uOdxsbCs"
    },
    "kernelspec": {
      "name": "python3",
      "display_name": "Python 3"
    },
    "accelerator": "GPU"
  },
  "cells": [
    {
      "cell_type": "code",
      "metadata": {
        "id": "w7nRMpMhlJ2Z",
        "colab_type": "code",
        "colab": {
          "base_uri": "https://localhost:8080/",
          "height": 162
        },
        "outputId": "e229421c-81ab-4cdb-8966-4f8c0dae77db"
      },
      "source": [
        "!git clone https://github.com/mihaijulien/Facial-Expression-Recognition"
      ],
      "execution_count": null,
      "outputs": [
        {
          "output_type": "stream",
          "text": [
            "Cloning into 'Facial-Expression-Recognition'...\n",
            "remote: Enumerating objects: 34057, done.\u001b[K\n",
            "remote: Counting objects: 100% (34057/34057), done.\u001b[K\n",
            "remote: Compressing objects: 100% (34052/34052), done.\u001b[K\n",
            "remote: Total 34057 (delta 5), reused 34053 (delta 4), pack-reused 0\n",
            "Receiving objects: 100% (34057/34057), 52.45 MiB | 12.11 MiB/s, done.\n",
            "Resolving deltas: 100% (5/5), done.\n",
            "Checking out files: 100% (35889/35889), done.\n"
          ],
          "name": "stdout"
        }
      ]
    },
    {
      "cell_type": "code",
      "metadata": {
        "id": "VpDiggPulVR1",
        "colab_type": "code",
        "colab": {
          "base_uri": "https://localhost:8080/",
          "height": 72
        },
        "outputId": "84ffba15-c916-468c-9328-c27782c762f0"
      },
      "source": [
        "import numpy as np\n",
        "import seaborn as sns\n",
        "import matplotlib.pyplot as plt\n",
        "import os\n",
        "%matplotlib inline\n",
        "\n",
        "from tensorflow.keras.preprocessing.image import ImageDataGenerator\n",
        "from tensorflow.keras.layers import Dense, Input, Dropout, Flatten, Conv2D\n",
        "from tensorflow.keras.layers import BatchNormalization, Activation, MaxPooling2D\n",
        "from tensorflow.keras.models import Model, Sequential\n",
        "from tensorflow.keras.optimizers import Adam\n",
        "from tensorflow.keras.callbacks import ModelCheckpoint, ReduceLROnPlateau\n",
        "\n",
        "from IPython.display import SVG, Image\n",
        "import tensorflow as tf\n",
        "print(\"Tensorflow version \", tf.__version__)"
      ],
      "execution_count": null,
      "outputs": [
        {
          "output_type": "stream",
          "text": [
            "/usr/local/lib/python3.6/dist-packages/statsmodels/tools/_testing.py:19: FutureWarning: pandas.util.testing is deprecated. Use the functions in the public API at pandas.testing instead.\n",
            "  import pandas.util.testing as tm\n"
          ],
          "name": "stderr"
        },
        {
          "output_type": "stream",
          "text": [
            "Tensorflow version  2.2.0\n"
          ],
          "name": "stdout"
        }
      ]
    },
    {
      "cell_type": "code",
      "metadata": {
        "id": "GLtEOkSSmc8H",
        "colab_type": "code",
        "colab": {
          "base_uri": "https://localhost:8080/",
          "height": 144
        },
        "outputId": "e77fe763-7810-42a9-ae24-4342667674ce"
      },
      "source": [
        "repo = \"Facial-Expression-Recognition\"\n",
        "train = os.path.join(repo, \"dataset\", \"train\")\n",
        "test = os.path.join(repo, 'dataset', 'test')\n",
        "\n",
        "for expression in os.listdir(train):\n",
        "  print(str(len(os.listdir(os.path.join(train, expression)))) + \" \" + expression + \" images\")"
      ],
      "execution_count": null,
      "outputs": [
        {
          "output_type": "stream",
          "text": [
            "3995 angry images\n",
            "4965 neutral images\n",
            "7215 happy images\n",
            "4830 sad images\n",
            "436 disgust images\n",
            "4097 fear images\n",
            "3171 surprise images\n"
          ],
          "name": "stdout"
        }
      ]
    },
    {
      "cell_type": "code",
      "metadata": {
        "id": "VQrfzsF5mvnG",
        "colab_type": "code",
        "colab": {
          "base_uri": "https://localhost:8080/",
          "height": 53
        },
        "outputId": "47335fb2-a16f-40ab-e34a-ba491fafa6d7"
      },
      "source": [
        "img_size = 48\n",
        "batch_size = 64\n",
        "datagen_train = ImageDataGenerator(horizontal_flip=True)\n",
        "train_generator = datagen_train.flow_from_directory(train, target_size=(img_size, img_size), \n",
        "                                                    color_mode=\"grayscale\",\n",
        "                                                    batch_size=batch_size,\n",
        "                                                    class_mode='categorical',\n",
        "                                                    shuffle=True)\n",
        "datagen_validation = ImageDataGenerator(horizontal_flip=True)\n",
        "validation_generator = datagen_train.flow_from_directory(test, target_size=(img_size, img_size), \n",
        "                                                    color_mode=\"grayscale\",\n",
        "                                                    batch_size=batch_size,\n",
        "                                                    class_mode='categorical',\n",
        "                                                    shuffle=True)"
      ],
      "execution_count": null,
      "outputs": [
        {
          "output_type": "stream",
          "text": [
            "Found 28709 images belonging to 7 classes.\n",
            "Found 7178 images belonging to 7 classes.\n"
          ],
          "name": "stdout"
        }
      ]
    },
    {
      "cell_type": "code",
      "metadata": {
        "id": "JRcMgjQo2YzI",
        "colab_type": "code",
        "colab": {
          "base_uri": "https://localhost:8080/",
          "height": 1000
        },
        "outputId": "7c74538d-cb29-4326-de53-9f61c117b47f"
      },
      "source": [
        "model = Sequential()\n",
        "# 1st conv block\n",
        "model.add(Conv2D(32, kernel_size=(3,3), padding='same', input_shape=(48,48,1)))\n",
        "model.add(BatchNormalization())\n",
        "model.add(Activation('relu'))\n",
        "model.add(MaxPooling2D(pool_size=(2,2)))\n",
        "model.add(Dropout(0.25))\n",
        "# 2nd conv block\n",
        "model.add(Conv2D(64, kernel_size=(5,5), padding='same'))\n",
        "model.add(BatchNormalization())\n",
        "model.add(Activation('relu'))\n",
        "model.add(MaxPooling2D(pool_size=(2,2)))\n",
        "model.add(Dropout(0.25))\n",
        "# 3rd conv block\n",
        "model.add(Conv2D(128, kernel_size=(5,5), padding='same'))\n",
        "model.add(BatchNormalization())\n",
        "model.add(Activation('relu'))\n",
        "model.add(MaxPooling2D(pool_size=(2,2)))\n",
        "model.add(Dropout(0.25))\n",
        "# 4th conv block\n",
        "model.add(Conv2D(256, kernel_size=(5,5), padding='same'))\n",
        "model.add(BatchNormalization())\n",
        "model.add(Activation('relu'))\n",
        "model.add(MaxPooling2D(pool_size=(2,2)))\n",
        "model.add(Dropout(0.25))\n",
        "\n",
        "model.add(Flatten())\n",
        "model.add(Dense(256))\n",
        "model.add(BatchNormalization())\n",
        "model.add(Activation('relu'))\n",
        "model.add(Dropout(0.25))\n",
        "model.add(Dense(512))\n",
        "model.add(BatchNormalization())\n",
        "model.add(Activation('relu'))\n",
        "model.add(Dropout(0.25))\n",
        "model.add(Dense(7, activation='softmax'))\n",
        "\n",
        "model.compile(optimizer=Adam(learning_rate=0.001), loss='categorical_crossentropy', metrics=['accuracy'])\n",
        "\n",
        "model.summary()"
      ],
      "execution_count": null,
      "outputs": [
        {
          "output_type": "stream",
          "text": [
            "Model: \"sequential\"\n",
            "_________________________________________________________________\n",
            "Layer (type)                 Output Shape              Param #   \n",
            "=================================================================\n",
            "conv2d (Conv2D)              (None, 48, 48, 32)        320       \n",
            "_________________________________________________________________\n",
            "batch_normalization (BatchNo (None, 48, 48, 32)        128       \n",
            "_________________________________________________________________\n",
            "activation (Activation)      (None, 48, 48, 32)        0         \n",
            "_________________________________________________________________\n",
            "max_pooling2d (MaxPooling2D) (None, 24, 24, 32)        0         \n",
            "_________________________________________________________________\n",
            "dropout (Dropout)            (None, 24, 24, 32)        0         \n",
            "_________________________________________________________________\n",
            "conv2d_1 (Conv2D)            (None, 24, 24, 64)        51264     \n",
            "_________________________________________________________________\n",
            "batch_normalization_1 (Batch (None, 24, 24, 64)        256       \n",
            "_________________________________________________________________\n",
            "activation_1 (Activation)    (None, 24, 24, 64)        0         \n",
            "_________________________________________________________________\n",
            "max_pooling2d_1 (MaxPooling2 (None, 12, 12, 64)        0         \n",
            "_________________________________________________________________\n",
            "dropout_1 (Dropout)          (None, 12, 12, 64)        0         \n",
            "_________________________________________________________________\n",
            "conv2d_2 (Conv2D)            (None, 12, 12, 128)       204928    \n",
            "_________________________________________________________________\n",
            "batch_normalization_2 (Batch (None, 12, 12, 128)       512       \n",
            "_________________________________________________________________\n",
            "activation_2 (Activation)    (None, 12, 12, 128)       0         \n",
            "_________________________________________________________________\n",
            "max_pooling2d_2 (MaxPooling2 (None, 6, 6, 128)         0         \n",
            "_________________________________________________________________\n",
            "dropout_2 (Dropout)          (None, 6, 6, 128)         0         \n",
            "_________________________________________________________________\n",
            "conv2d_3 (Conv2D)            (None, 6, 6, 256)         819456    \n",
            "_________________________________________________________________\n",
            "batch_normalization_3 (Batch (None, 6, 6, 256)         1024      \n",
            "_________________________________________________________________\n",
            "activation_3 (Activation)    (None, 6, 6, 256)         0         \n",
            "_________________________________________________________________\n",
            "max_pooling2d_3 (MaxPooling2 (None, 3, 3, 256)         0         \n",
            "_________________________________________________________________\n",
            "dropout_3 (Dropout)          (None, 3, 3, 256)         0         \n",
            "_________________________________________________________________\n",
            "flatten (Flatten)            (None, 2304)              0         \n",
            "_________________________________________________________________\n",
            "dense (Dense)                (None, 256)               590080    \n",
            "_________________________________________________________________\n",
            "batch_normalization_4 (Batch (None, 256)               1024      \n",
            "_________________________________________________________________\n",
            "activation_4 (Activation)    (None, 256)               0         \n",
            "_________________________________________________________________\n",
            "dropout_4 (Dropout)          (None, 256)               0         \n",
            "_________________________________________________________________\n",
            "dense_1 (Dense)              (None, 512)               131584    \n",
            "_________________________________________________________________\n",
            "batch_normalization_5 (Batch (None, 512)               2048      \n",
            "_________________________________________________________________\n",
            "activation_5 (Activation)    (None, 512)               0         \n",
            "_________________________________________________________________\n",
            "dropout_5 (Dropout)          (None, 512)               0         \n",
            "_________________________________________________________________\n",
            "dense_2 (Dense)              (None, 7)                 3591      \n",
            "=================================================================\n",
            "Total params: 1,806,215\n",
            "Trainable params: 1,803,719\n",
            "Non-trainable params: 2,496\n",
            "_________________________________________________________________\n"
          ],
          "name": "stdout"
        }
      ]
    },
    {
      "cell_type": "code",
      "metadata": {
        "id": "W5R-QIRKUCqJ",
        "colab_type": "code",
        "colab": {
          "base_uri": "https://localhost:8080/",
          "height": 1000
        },
        "outputId": "bf3d6718-9868-4471-8869-6c17a6ff1614"
      },
      "source": [
        "epochs = 15\n",
        "steps_per_epoch = train_generator.n // train_generator.batch_size\n",
        "validation_steps = validation_generator.n // validation_generator.batch_size\n",
        "\n",
        "checkpoint = ModelCheckpoint(\"model_weights.h5\", monitor=\"val_accuracy\", \n",
        "                             save_weights_only=True, mode='max', verbose=1)\n",
        "\n",
        "reduce_lr = ReduceLROnPlateau(monitor='val_loss', factor=0.1, patience=2,\n",
        "                             min_lr=0.00001, model='auto')\n",
        "\n",
        "callbacks= [checkpoint, reduce_lr]\n",
        "\n",
        "history = model.fit(x=train_generator,\n",
        "                    steps_per_epoch=steps_per_epoch,\n",
        "                    epochs=epochs,\n",
        "                    validation_data=validation_generator,\n",
        "                    validation_steps=validation_steps,\n",
        "                    callbacks=callbacks)"
      ],
      "execution_count": null,
      "outputs": [
        {
          "output_type": "stream",
          "text": [
            "Epoch 1/15\n",
            "447/448 [============================>.] - ETA: 0s - loss: 1.7824 - accuracy: 0.3102\n",
            "Epoch 00001: saving model to model_weights.h5\n",
            "448/448 [==============================] - 17s 39ms/step - loss: 1.7822 - accuracy: 0.3104 - val_loss: 1.7781 - val_accuracy: 0.3216 - lr: 0.0010\n",
            "Epoch 2/15\n",
            "448/448 [==============================] - ETA: 0s - loss: 1.4607 - accuracy: 0.4370\n",
            "Epoch 00002: saving model to model_weights.h5\n",
            "448/448 [==============================] - 17s 37ms/step - loss: 1.4607 - accuracy: 0.4370 - val_loss: 1.3179 - val_accuracy: 0.4909 - lr: 0.0010\n",
            "Epoch 3/15\n",
            "447/448 [============================>.] - ETA: 0s - loss: 1.3180 - accuracy: 0.4972\n",
            "Epoch 00003: saving model to model_weights.h5\n",
            "448/448 [==============================] - 16s 37ms/step - loss: 1.3181 - accuracy: 0.4972 - val_loss: 1.3403 - val_accuracy: 0.4646 - lr: 0.0010\n",
            "Epoch 4/15\n",
            "447/448 [============================>.] - ETA: 0s - loss: 1.2497 - accuracy: 0.5215\n",
            "Epoch 00004: saving model to model_weights.h5\n",
            "448/448 [==============================] - 17s 37ms/step - loss: 1.2497 - accuracy: 0.5215 - val_loss: 1.2136 - val_accuracy: 0.5364 - lr: 0.0010\n",
            "Epoch 5/15\n",
            "447/448 [============================>.] - ETA: 0s - loss: 1.2082 - accuracy: 0.5394\n",
            "Epoch 00005: saving model to model_weights.h5\n",
            "448/448 [==============================] - 17s 37ms/step - loss: 1.2081 - accuracy: 0.5394 - val_loss: 1.1924 - val_accuracy: 0.5439 - lr: 0.0010\n",
            "Epoch 6/15\n",
            "448/448 [==============================] - ETA: 0s - loss: 1.1653 - accuracy: 0.5536\n",
            "Epoch 00006: saving model to model_weights.h5\n",
            "448/448 [==============================] - 16s 37ms/step - loss: 1.1653 - accuracy: 0.5536 - val_loss: 1.1434 - val_accuracy: 0.5605 - lr: 0.0010\n",
            "Epoch 7/15\n",
            "447/448 [============================>.] - ETA: 0s - loss: 1.1354 - accuracy: 0.5675\n",
            "Epoch 00007: saving model to model_weights.h5\n",
            "448/448 [==============================] - 17s 37ms/step - loss: 1.1355 - accuracy: 0.5676 - val_loss: 1.1230 - val_accuracy: 0.5735 - lr: 0.0010\n",
            "Epoch 8/15\n",
            "447/448 [============================>.] - ETA: 0s - loss: 1.1141 - accuracy: 0.5802\n",
            "Epoch 00008: saving model to model_weights.h5\n",
            "448/448 [==============================] - 16s 37ms/step - loss: 1.1144 - accuracy: 0.5800 - val_loss: 1.0987 - val_accuracy: 0.5848 - lr: 0.0010\n",
            "Epoch 9/15\n",
            "447/448 [============================>.] - ETA: 0s - loss: 1.0846 - accuracy: 0.5903\n",
            "Epoch 00009: saving model to model_weights.h5\n",
            "448/448 [==============================] - 17s 37ms/step - loss: 1.0844 - accuracy: 0.5906 - val_loss: 1.1923 - val_accuracy: 0.5573 - lr: 0.0010\n",
            "Epoch 10/15\n",
            "447/448 [============================>.] - ETA: 0s - loss: 1.0622 - accuracy: 0.5955\n",
            "Epoch 00010: saving model to model_weights.h5\n",
            "448/448 [==============================] - 16s 37ms/step - loss: 1.0620 - accuracy: 0.5954 - val_loss: 1.1004 - val_accuracy: 0.5886 - lr: 0.0010\n",
            "Epoch 11/15\n",
            "447/448 [============================>.] - ETA: 0s - loss: 0.9971 - accuracy: 0.6229\n",
            "Epoch 00011: saving model to model_weights.h5\n",
            "448/448 [==============================] - 17s 37ms/step - loss: 0.9967 - accuracy: 0.6231 - val_loss: 1.0185 - val_accuracy: 0.6172 - lr: 1.0000e-04\n",
            "Epoch 12/15\n",
            "447/448 [============================>.] - ETA: 0s - loss: 0.9752 - accuracy: 0.6314\n",
            "Epoch 00012: saving model to model_weights.h5\n",
            "448/448 [==============================] - 16s 37ms/step - loss: 0.9749 - accuracy: 0.6314 - val_loss: 0.9989 - val_accuracy: 0.6251 - lr: 1.0000e-04\n",
            "Epoch 13/15\n",
            "447/448 [============================>.] - ETA: 0s - loss: 0.9624 - accuracy: 0.6384\n",
            "Epoch 00013: saving model to model_weights.h5\n",
            "448/448 [==============================] - 16s 37ms/step - loss: 0.9621 - accuracy: 0.6384 - val_loss: 0.9916 - val_accuracy: 0.6243 - lr: 1.0000e-04\n",
            "Epoch 14/15\n",
            "447/448 [============================>.] - ETA: 0s - loss: 0.9516 - accuracy: 0.6376\n",
            "Epoch 00014: saving model to model_weights.h5\n",
            "448/448 [==============================] - 17s 37ms/step - loss: 0.9519 - accuracy: 0.6377 - val_loss: 0.9886 - val_accuracy: 0.6331 - lr: 1.0000e-04\n",
            "Epoch 15/15\n",
            "447/448 [============================>.] - ETA: 0s - loss: 0.9396 - accuracy: 0.6452\n",
            "Epoch 00015: saving model to model_weights.h5\n",
            "448/448 [==============================] - 17s 37ms/step - loss: 0.9396 - accuracy: 0.6453 - val_loss: 0.9940 - val_accuracy: 0.6293 - lr: 1.0000e-04\n"
          ],
          "name": "stdout"
        }
      ]
    },
    {
      "cell_type": "code",
      "metadata": {
        "id": "c3XlA2qrghGD",
        "colab_type": "code",
        "colab": {
          "base_uri": "https://localhost:8080/",
          "height": 313
        },
        "outputId": "94e7e117-5509-4c0b-8c99-e93da05541cc"
      },
      "source": [
        "plt.plot(history.history['loss'])\n",
        "plt.plot(history.history['val_loss'])\n",
        "plt.legend(['training', 'validation'])\n",
        "plt.title('loss')\n",
        "plt.xlabel('epoch')"
      ],
      "execution_count": null,
      "outputs": [
        {
          "output_type": "execute_result",
          "data": {
            "text/plain": [
              "Text(0.5, 0, 'epoch')"
            ]
          },
          "metadata": {
            "tags": []
          },
          "execution_count": 7
        },
        {
          "output_type": "display_data",
          "data": {
            "image/png": "[encoded data removed]",
            "text/plain": [
              "<Figure size 432x288 with 1 Axes>"
            ]
          },
          "metadata": {
            "tags": [],
            "needs_background": "light"
          }
        }
      ]
    },
    {
      "cell_type": "code",
      "metadata": {
        "id": "oo1AbUd1i3yj",
        "colab_type": "code",
        "colab": {
          "base_uri": "https://localhost:8080/",
          "height": 313
        },
        "outputId": "dea145ed-0875-46e4-8b5a-3946ada33441"
      },
      "source": [
        "plt.plot(history.history['accuracy'])\n",
        "plt.plot(history.history['val_accuracy'])\n",
        "plt.legend(['training', 'validation'])\n",
        "plt.title('accuracy')\n",
        "plt.xlabel('epoch')"
      ],
      "execution_count": null,
      "outputs": [
        {
          "output_type": "execute_result",
          "data": {
            "text/plain": [
              "Text(0.5, 0, 'epoch')"
            ]
          },
          "metadata": {
            "tags": []
          },
          "execution_count": 8
        },
        {
          "output_type": "display_data",
          "data": {
            "image/png": "[encoded data removed]",
            "text/plain": [
              "<Figure size 432x288 with 1 Axes>"
            ]
          },
          "metadata": {
            "tags": [],
            "needs_background": "light"
          }
        }
      ]
    },
    {
      "cell_type": "code",
      "metadata": {
        "id": "cvVIrnS43quk",
        "colab_type": "code",
        "colab": {
          "base_uri": "https://localhost:8080/",
          "height": 17
        },
        "outputId": "0fe5163c-9937-49ae-c8b4-5afee8d5eae8"
      },
      "source": [
        "model_json = model.to_json()\n",
        "with open('model.json', 'w') as json_file:\n",
        "  json_file.write(model_json)\n",
        "\n",
        "from google.colab import files\n",
        "\n",
        "files.download('model.json')\n",
        "files.download('model_weights.h5')"
      ],
      "execution_count": null,
      "outputs": [
        {
          "output_type": "display_data",
          "data": {
            "application/javascript": [
              "\n",
              "    async function download(id, filename, size) {\n",
              "      if (!google.colab.kernel.accessAllowed) {\n",
              "        return;\n",
              "      }\n",
              "      const div = document.createElement('div');\n",
              "      const label = document.createElement('label');\n",
              "      label.textContent = `Downloading \"${filename}\": `;\n",
              "      div.appendChild(label);\n",
              "      const progress = document.createElement('progress');\n",
              "      progress.max = size;\n",
              "      div.appendChild(progress);\n",
              "      document.body.appendChild(div);\n",
              "\n",
              "      const buffers = [];\n",
              "      let downloaded = 0;\n",
              "\n",
              "      const channel = await google.colab.kernel.comms.open(id);\n",
              "      // Send a message to notify the kernel that we're ready.\n",
              "      channel.send({})\n",
              "\n",
              "      for await (const message of channel.messages) {\n",
              "        // Send a message to notify the kernel that we're ready.\n",
              "        channel.send({})\n",
              "        if (message.buffers) {\n",
              "          for (const buffer of message.buffers) {\n",
              "            buffers.push(buffer);\n",
              "            downloaded += buffer.byteLength;\n",
              "            progress.value = downloaded;\n",
              "          }\n",
              "        }\n",
              "      }\n",
              "      const blob = new Blob(buffers, {type: 'application/binary'});\n",
              "      const a = document.createElement('a');\n",
              "      a.href = window.URL.createObjectURL(blob);\n",
              "      a.download = filename;\n",
              "      div.appendChild(a);\n",
              "      a.click();\n",
              "      div.remove();\n",
              "    }\n",
              "  "
            ],
            "text/plain": [
              "<IPython.core.display.Javascript object>"
            ]
          },
          "metadata": {
            "tags": []
          }
        },
        {
          "output_type": "display_data",
          "data": {
            "application/javascript": [
              "download(\"download_04066739-94fa-4292-abba-00bff1dbcc00\", \"model.json\", 9611)"
            ],
            "text/plain": [
              "<IPython.core.display.Javascript object>"
            ]
          },
          "metadata": {
            "tags": []
          }
        },
        {
          "output_type": "display_data",
          "data": {
            "application/javascript": [
              "\n",
              "    async function download(id, filename, size) {\n",
              "      if (!google.colab.kernel.accessAllowed) {\n",
              "        return;\n",
              "      }\n",
              "      const div = document.createElement('div');\n",
              "      const label = document.createElement('label');\n",
              "      label.textContent = `Downloading \"${filename}\": `;\n",
              "      div.appendChild(label);\n",
              "      const progress = document.createElement('progress');\n",
              "      progress.max = size;\n",
              "      div.appendChild(progress);\n",
              "      document.body.appendChild(div);\n",
              "\n",
              "      const buffers = [];\n",
              "      let downloaded = 0;\n",
              "\n",
              "      const channel = await google.colab.kernel.comms.open(id);\n",
              "      // Send a message to notify the kernel that we're ready.\n",
              "      channel.send({})\n",
              "\n",
              "      for await (const message of channel.messages) {\n",
              "        // Send a message to notify the kernel that we're ready.\n",
              "        channel.send({})\n",
              "        if (message.buffers) {\n",
              "          for (const buffer of message.buffers) {\n",
              "            buffers.push(buffer);\n",
              "            downloaded += buffer.byteLength;\n",
              "            progress.value = downloaded;\n",
              "          }\n",
              "        }\n",
              "      }\n",
              "      const blob = new Blob(buffers, {type: 'application/binary'});\n",
              "      const a = document.createElement('a');\n",
              "      a.href = window.URL.createObjectURL(blob);\n",
              "      a.download = filename;\n",
              "      div.appendChild(a);\n",
              "      a.click();\n",
              "      div.remove();\n",
              "    }\n",
              "  "
            ],
            "text/plain": [
              "<IPython.core.display.Javascript object>"
            ]
          },
          "metadata": {
            "tags": []
          }
        },
        {
          "output_type": "display_data",
          "data": {
            "application/javascript": [
              "download(\"download_287e673b-8079-4ca9-a494-44bd7c0107f2\", \"model_weights.h5\", 7289232)"
            ],
            "text/plain": [
              "<IPython.core.display.Javascript object>"
            ]
          },
          "metadata": {
            "tags": []
          }
        }
      ]
    }
  ]
}